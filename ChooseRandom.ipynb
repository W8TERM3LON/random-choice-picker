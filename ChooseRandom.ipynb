{
  "nbformat": 4,
  "nbformat_minor": 0,
  "metadata": {
    "colab": {
      "name": "Choose random number.ipynb",
      "provenance": [],
      "collapsed_sections": []
    },
    "kernelspec": {
      "name": "python3",
      "display_name": "Python 3"
    }
  },
  "cells": [
    {
      "cell_type": "markdown",
      "metadata": {
        "id": "TwsiSDE_99QI",
        "colab_type": "text"
      },
      "source": [
        "# <center>Run this program if you don't care about price. </center>"
      ]
    },
    {
      "cell_type": "code",
      "metadata": {
        "id": "Cef4TP4yzSo9",
        "colab_type": "code",
        "colab": {}
      },
      "source": [
        "import random\n",
        "\n",
        "largest_number = int(input(\"Largest number in your number of choices--> \"))\n",
        "\n",
        "print()\n",
        "print('Go with choice---> ' + str(random.randint(1,largest_number)))"
      ],
      "execution_count": 0,
      "outputs": []
    },
    {
      "cell_type": "markdown",
      "metadata": {
        "id": "61UISR_u-DEU",
        "colab_type": "text"
      },
      "source": [
        "# <center> Run this program if you care about price. </center>"
      ]
    },
    {
      "cell_type": "code",
      "metadata": {
        "id": "1sCGLd920wnf",
        "colab_type": "code",
        "colab": {}
      },
      "source": [
        "#Modify these variables to your liking.\n",
        "cheap = [\"cheap 1\", \"cheap 2\", \"cheap 3\", \"cheap 4\", \"cheap 5\"]\n",
        "expensive = [\"expensive 1\", \"expensive 2\",\"expensive 3\",\"expensive 4\",\"expensive 5\"]\n",
        "\n",
        "\n",
        "#Do not touch below.\n",
        "import random\n",
        "starve = [\"Starve\"]\n",
        "usrinput = str(input('Cheap/Expensive/Random/Random with option to starve (C/E/R/RS)---> ')).casefold()\n",
        "\n",
        "if usrinput == \"cheap\" or \"c\":\n",
        "  output = random.choice(cheap)\n",
        "  \n",
        "if usrinput == \"expensive\" or \"e\":\n",
        "  output = random.choice(expensive)\n",
        "\n",
        "if usrinput == \"random\" or \"r\":\n",
        "  output = random.choice(cheap + expensive)\n",
        "\n",
        "if usrinput == \"random + starve\" or \"rs\" or \"random with option to starve\":\n",
        "  output = random.choice(cheap + expensive + starve)\n",
        "\n",
        "print()\n",
        "print(\"Go with--> \" + str(output))"
      ],
      "execution_count": 0,
      "outputs": []
    }
  ]
}